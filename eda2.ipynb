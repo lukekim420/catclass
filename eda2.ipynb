{
 "cells": [
  {
   "cell_type": "code",
   "execution_count": 5,
   "metadata": {},
   "outputs": [
    {
     "name": "stdout",
     "output_type": "stream",
     "text": [
      "['./data/caterwaul']\n"
     ]
    }
   ],
   "source": [
    "from glob import glob\n",
    "# glob: 사용자가 제시한 조건에 맞는 파일명을 리스트 형식으로 반환\n",
    "base_dir = './data/caterwaul'\n",
    "train_folder = glob(base_dir)\n",
    "train_path = []\n",
    "print(train_folder)\n",
    "for folder in train_folder:\n",
    "    tmp = glob(folder + '/*')\n",
    "    train_path += tmp"
   ]
  },
  {
   "cell_type": "code",
   "execution_count": 6,
   "metadata": {},
   "outputs": [],
   "source": [
    "import pandas as pd\n",
    "pd.DataFrame(train_path).to_csv('./caterwaul_train_path.csv', index=False)"
   ]
  },
  {
   "cell_type": "code",
   "execution_count": 10,
   "metadata": {},
   "outputs": [
    {
     "data": {
      "text/html": [
       "<div>\n",
       "<style scoped>\n",
       "    .dataframe tbody tr th:only-of-type {\n",
       "        vertical-align: middle;\n",
       "    }\n",
       "\n",
       "    .dataframe tbody tr th {\n",
       "        vertical-align: top;\n",
       "    }\n",
       "\n",
       "    .dataframe thead th {\n",
       "        text-align: right;\n",
       "    }\n",
       "</style>\n",
       "<table border=\"1\" class=\"dataframe\">\n",
       "  <thead>\n",
       "    <tr style=\"text-align: right;\">\n",
       "      <th></th>\n",
       "      <th>0</th>\n",
       "    </tr>\n",
       "  </thead>\n",
       "  <tbody>\n",
       "    <tr>\n",
       "      <th>0</th>\n",
       "      <td>./data/meow\\-2--Xzix2Vk_0_0.wav</td>\n",
       "    </tr>\n",
       "    <tr>\n",
       "      <th>1</th>\n",
       "      <td>./data/meow\\-2--Xzix2Vk_0_1.wav</td>\n",
       "    </tr>\n",
       "    <tr>\n",
       "      <th>2</th>\n",
       "      <td>./data/meow\\-2--Xzix2Vk_0_2.wav</td>\n",
       "    </tr>\n",
       "    <tr>\n",
       "      <th>3</th>\n",
       "      <td>./data/meow\\-2BR7sVLPCE_13_0.wav</td>\n",
       "    </tr>\n",
       "    <tr>\n",
       "      <th>4</th>\n",
       "      <td>./data/meow\\-2BR7sVLPCE_13_17.wav</td>\n",
       "    </tr>\n",
       "    <tr>\n",
       "      <th>...</th>\n",
       "      <td>...</td>\n",
       "    </tr>\n",
       "    <tr>\n",
       "      <th>21018</th>\n",
       "      <td>./data/meow\\P9SwUAXhxPQ_6_6.wav</td>\n",
       "    </tr>\n",
       "    <tr>\n",
       "      <th>21019</th>\n",
       "      <td>./data/meow\\P9SwUAXhxPQ_6_8.wav</td>\n",
       "    </tr>\n",
       "    <tr>\n",
       "      <th>21020</th>\n",
       "      <td>./data/meow\\PCKQqHeRNyA_3_34.wav</td>\n",
       "    </tr>\n",
       "    <tr>\n",
       "      <th>21021</th>\n",
       "      <td>./data/meow\\PCKQqHeRNyA_3_53.wav</td>\n",
       "    </tr>\n",
       "    <tr>\n",
       "      <th>21022</th>\n",
       "      <td>./data/meow\\PCKQqHeRNyA_3_6.wav</td>\n",
       "    </tr>\n",
       "  </tbody>\n",
       "</table>\n",
       "<p>21023 rows × 1 columns</p>\n",
       "</div>"
      ],
      "text/plain": [
       "                                       0\n",
       "0        ./data/meow\\-2--Xzix2Vk_0_0.wav\n",
       "1        ./data/meow\\-2--Xzix2Vk_0_1.wav\n",
       "2        ./data/meow\\-2--Xzix2Vk_0_2.wav\n",
       "3       ./data/meow\\-2BR7sVLPCE_13_0.wav\n",
       "4      ./data/meow\\-2BR7sVLPCE_13_17.wav\n",
       "...                                  ...\n",
       "21018    ./data/meow\\P9SwUAXhxPQ_6_6.wav\n",
       "21019    ./data/meow\\P9SwUAXhxPQ_6_8.wav\n",
       "21020   ./data/meow\\PCKQqHeRNyA_3_34.wav\n",
       "21021   ./data/meow\\PCKQqHeRNyA_3_53.wav\n",
       "21022    ./data/meow\\PCKQqHeRNyA_3_6.wav\n",
       "\n",
       "[21023 rows x 1 columns]"
      ]
     },
     "execution_count": 10,
     "metadata": {},
     "output_type": "execute_result"
    }
   ],
   "source": [
    "df = pd.read_csv('meow_train_path.csv')\n",
    "df"
   ]
  },
  {
   "cell_type": "code",
   "execution_count": 10,
   "metadata": {},
   "outputs": [
    {
     "name": "stdout",
     "output_type": "stream",
     "text": [
      "911\n",
      "                                   path  label\n",
      "0       ./data/meow\\-2--Xzix2Vk_0_0.wav      1\n",
      "1       ./data/meow\\-2--Xzix2Vk_0_1.wav      0\n",
      "2       ./data/meow\\-2--Xzix2Vk_0_2.wav      0\n",
      "3      ./data/meow\\-2BR7sVLPCE_13_0.wav      0\n",
      "4     ./data/meow\\-2BR7sVLPCE_13_17.wav      0\n",
      "...                                 ...    ...\n",
      "7002  ./data/meow\\2UGVSzh2bpQ_30_75.wav      2\n",
      "7003  ./data/meow\\2UGVSzh2bpQ_30_79.wav      2\n",
      "7004  ./data/meow\\2UGVSzh2bpQ_30_80.wav      2\n",
      "7005  ./data/meow\\2UGVSzh2bpQ_30_83.wav      2\n",
      "7006   ./data/meow\\2UGVSzh2bpQ_30_9.wav      2\n",
      "\n",
      "[7007 rows x 2 columns]\n",
      "you have found 138 cats\n"
     ]
    }
   ],
   "source": [
    "import pandas as pd\n",
    "import numpy as np\n",
    "import playsound\n",
    "\n",
    "i = int(input('김주혁 : 1, 이민준 : 2, 이연우 : 3'))\n",
    "typ = int(input('meow : 1, caterwaul : 2'))\n",
    "if typ==1:\n",
    "    typ='meow'\n",
    "if typ==2:\n",
    "    typ='caterwaul'\n",
    "df = pd.read_csv(typ+'_train_path.csv')\n",
    "# if i=1 then slice 0-1/3, 2 then 1/3-2/3, 3 then 2/3-3/3\n",
    "df_work = df.iloc[int(len(df)*(i-1)/3):int(len(df)*i/3)]\n",
    "import os.path\n",
    "if os.path.isfile(typ+\"_labeled_path_\"+str(i)+\".csv\"):\n",
    "    df_labeled = pd.read_csv(typ+\"_labeled_path_\"+str(i)+\".csv\")\n",
    "else:\n",
    "    df_labeled = pd.concat([df_work.reset_index(drop=True),pd.DataFrame(np.ones(len(df_work))*2).astype(int)],axis=1)\n",
    "df_labeled.columns = ['path','label']\n",
    "wheretostart = df_labeled[df_labeled['label']==2].index[0]\n",
    "print(wheretostart)\n",
    "print(df_labeled)\n",
    "done=False\n",
    "for j in range(wheretostart,len(df_labeled)):\n",
    "    playsound.playsound(df_labeled['path'][j])\n",
    "    #0 is nocat, 1 is cat, 2 is relisten to it\n",
    "    try:\n",
    "        temp=input('0 or enter : not cat, 1 : cat, 2 : relisten to it, 3 : quit and save')\n",
    "        if temp=='':\n",
    "            label=0\n",
    "        else:\n",
    "            label=int(temp)\n",
    "    except:\n",
    "        label=3\n",
    "    done=False\n",
    "    end=False\n",
    "    while not done:\n",
    "        while label!=0 and label!=1 and label!=2 and label!=3:\n",
    "            try:\n",
    "                temp=input('0 or enter : not cat, 1 : cat, 2 : relisten to it, 3 : quit and save')\n",
    "                if temp=='':\n",
    "                    label=0\n",
    "                else:\n",
    "                    label=int(temp)\n",
    "            except:\n",
    "                label=3\n",
    "        while label==2:\n",
    "            playsound.playsound(df_labeled['path'][j])\n",
    "            try:\n",
    "                temp=input('0 or enter : not cat, 1 : cat, 2 : relisten to it, 3 : quit and save')\n",
    "                if temp=='':\n",
    "                    label=0\n",
    "                else:\n",
    "                    label=int(temp)\n",
    "            except:\n",
    "                label=3\n",
    "        if label==3:\n",
    "            done=True\n",
    "            end=True\n",
    "        if label==0 or label==1:\n",
    "            done=True\n",
    "    if end:\n",
    "        break\n",
    "\n",
    "\n",
    "    df_labeled.loc[j,'label'] = label\n",
    "\n",
    "df_labeled.to_csv(typ+\"_labeled_path_\"+str(i)+\".csv\", index=False)\n",
    "#count how many cats\n",
    "print(\"you have found \"+str(len(df_labeled[df_labeled['label']==1]))+\" cats\")\n",
    "\n",
    "\n"
   ]
  },
  {
   "cell_type": "code",
   "execution_count": null,
   "metadata": {},
   "outputs": [],
   "source": [
    "00"
   ]
  },
  {
   "cell_type": "code",
   "execution_count": null,
   "metadata": {},
   "outputs": [],
   "source": []
  }
 ],
 "metadata": {
  "kernelspec": {
   "display_name": "Python 3",
   "language": "python",
   "name": "python3"
  },
  "language_info": {
   "codemirror_mode": {
    "name": "ipython",
    "version": 3
   },
   "file_extension": ".py",
   "mimetype": "text/x-python",
   "name": "python",
   "nbconvert_exporter": "python",
   "pygments_lexer": "ipython3",
   "version": "3.10.0"
  }
 },
 "nbformat": 4,
 "nbformat_minor": 2
}
