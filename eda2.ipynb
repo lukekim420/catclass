{
 "cells": [
  {
   "cell_type": "code",
   "execution_count": 5,
   "metadata": {},
   "outputs": [
    {
     "name": "stdout",
     "output_type": "stream",
     "text": [
      "['./data/caterwaul']\n"
     ]
    }
   ],
   "source": [
    "from glob import glob\n",
    "# glob: 사용자가 제시한 조건에 맞는 파일명을 리스트 형식으로 반환\n",
    "base_dir = './data/caterwaul'\n",
    "train_folder = glob(base_dir)\n",
    "train_path = []\n",
    "print(train_folder)\n",
    "for folder in train_folder:\n",
    "    tmp = glob(folder + '/*')\n",
    "    train_path += tmp"
   ]
  },
  {
   "cell_type": "code",
   "execution_count": 6,
   "metadata": {},
   "outputs": [],
   "source": [
    "import pandas as pd\n",
    "pd.DataFrame(train_path).to_csv('./caterwaul_train_path.csv', index=False)"
   ]
  },
  {
   "cell_type": "code",
   "execution_count": 10,
   "metadata": {},
   "outputs": [
    {
     "data": {
      "text/html": [
       "<div>\n",
       "<style scoped>\n",
       "    .dataframe tbody tr th:only-of-type {\n",
       "        vertical-align: middle;\n",
       "    }\n",
       "\n",
       "    .dataframe tbody tr th {\n",
       "        vertical-align: top;\n",
       "    }\n",
       "\n",
       "    .dataframe thead th {\n",
       "        text-align: right;\n",
       "    }\n",
       "</style>\n",
       "<table border=\"1\" class=\"dataframe\">\n",
       "  <thead>\n",
       "    <tr style=\"text-align: right;\">\n",
       "      <th></th>\n",
       "      <th>0</th>\n",
       "    </tr>\n",
       "  </thead>\n",
       "  <tbody>\n",
       "    <tr>\n",
       "      <th>0</th>\n",
       "      <td>./data/meow\\-2--Xzix2Vk_0_0.wav</td>\n",
       "    </tr>\n",
       "    <tr>\n",
       "      <th>1</th>\n",
       "      <td>./data/meow\\-2--Xzix2Vk_0_1.wav</td>\n",
       "    </tr>\n",
       "    <tr>\n",
       "      <th>2</th>\n",
       "      <td>./data/meow\\-2--Xzix2Vk_0_2.wav</td>\n",
       "    </tr>\n",
       "    <tr>\n",
       "      <th>3</th>\n",
       "      <td>./data/meow\\-2BR7sVLPCE_13_0.wav</td>\n",
       "    </tr>\n",
       "    <tr>\n",
       "      <th>4</th>\n",
       "      <td>./data/meow\\-2BR7sVLPCE_13_17.wav</td>\n",
       "    </tr>\n",
       "    <tr>\n",
       "      <th>...</th>\n",
       "      <td>...</td>\n",
       "    </tr>\n",
       "    <tr>\n",
       "      <th>21018</th>\n",
       "      <td>./data/meow\\P9SwUAXhxPQ_6_6.wav</td>\n",
       "    </tr>\n",
       "    <tr>\n",
       "      <th>21019</th>\n",
       "      <td>./data/meow\\P9SwUAXhxPQ_6_8.wav</td>\n",
       "    </tr>\n",
       "    <tr>\n",
       "      <th>21020</th>\n",
       "      <td>./data/meow\\PCKQqHeRNyA_3_34.wav</td>\n",
       "    </tr>\n",
       "    <tr>\n",
       "      <th>21021</th>\n",
       "      <td>./data/meow\\PCKQqHeRNyA_3_53.wav</td>\n",
       "    </tr>\n",
       "    <tr>\n",
       "      <th>21022</th>\n",
       "      <td>./data/meow\\PCKQqHeRNyA_3_6.wav</td>\n",
       "    </tr>\n",
       "  </tbody>\n",
       "</table>\n",
       "<p>21023 rows × 1 columns</p>\n",
       "</div>"
      ],
      "text/plain": [
       "                                       0\n",
       "0        ./data/meow\\-2--Xzix2Vk_0_0.wav\n",
       "1        ./data/meow\\-2--Xzix2Vk_0_1.wav\n",
       "2        ./data/meow\\-2--Xzix2Vk_0_2.wav\n",
       "3       ./data/meow\\-2BR7sVLPCE_13_0.wav\n",
       "4      ./data/meow\\-2BR7sVLPCE_13_17.wav\n",
       "...                                  ...\n",
       "21018    ./data/meow\\P9SwUAXhxPQ_6_6.wav\n",
       "21019    ./data/meow\\P9SwUAXhxPQ_6_8.wav\n",
       "21020   ./data/meow\\PCKQqHeRNyA_3_34.wav\n",
       "21021   ./data/meow\\PCKQqHeRNyA_3_53.wav\n",
       "21022    ./data/meow\\PCKQqHeRNyA_3_6.wav\n",
       "\n",
       "[21023 rows x 1 columns]"
      ]
     },
     "execution_count": 10,
     "metadata": {},
     "output_type": "execute_result"
    }
   ],
   "source": [
    "df = pd.read_csv('meow_train_path.csv')\n",
    "df"
   ]
  },
  {
   "cell_type": "code",
   "execution_count": 1,
   "metadata": {},
   "outputs": [
    {
     "name": "stdout",
     "output_type": "stream",
     "text": [
      "1\n",
      "you have found 11 cats\n"
     ]
    }
   ],
   "source": [
    "import pandas as pd\n",
    "import numpy as np\n",
    "import playsound\n",
    "\n",
    "i = int(input('김주혁 : 1, 이민준 : 2, 이연우 : 3'))\n",
    "typ = int(input('meow : 1, caterwaul : 2'))\n",
    "if typ==1:\n",
    "    typ='meow'\n",
    "if typ==2:\n",
    "    typ='caterwaul'\n",
    "df = pd.read_csv(typ+'_train_path.csv')\n",
    "# if i=1 then slice 0-1/3, 2 then 1/3-2/3, 3 then 2/3-3/3\n",
    "df_work = df.iloc[int(len(df)*(i-1)/3):int(len(df)*i/3)]\n",
    "import os.path\n",
    "if os.path.isfile(typ+\"_labeled_path_\"+str(i)+\".csv\"):\n",
    "    df_labeled = pd.read_csv(typ+\"_labeled_path_\"+str(i)+\".csv\")\n",
    "else:\n",
    "    df_labeled = pd.concat([df_work.reset_index(drop=True),pd.DataFrame(np.ones(len(df_work))*2).astype(int)],axis=1)\n",
    "df_labeled.columns = ['path','label']\n",
    "wheretostart = df_labeled[df_labeled['label']==2].index[0]\n",
    "print(wheretostart)\n",
    "done=False\n",
    "skip=False\n",
    "skipindex=0\n",
    "\n",
    "\n",
    "for j in range(wheretostart,len(df_labeled)):\n",
    "    playsound.playsound(df_labeled['path'][j])\n",
    "    #0 is nocat, 1 is cat, 2 is relisten to it\n",
    "    try:\n",
    "        temp=input('0 or enter : not cat, 1 : cat, 2 : relisten to it, 3 : quit and save, 4 : skip file')\n",
    "        if temp=='':\n",
    "            label=0\n",
    "        else:\n",
    "            label=int(temp)\n",
    "    except:\n",
    "        label=3\n",
    "    done=False\n",
    "    end=False\n",
    "    while not done:\n",
    "        while label!=0 and label!=1 and label!=2 and label!=3 and label!=4:\n",
    "            try:\n",
    "                temp=input('0 or enter : not cat, 1 : cat, 2 : relisten to it, 3 : quit and save, 4 : skip file')\n",
    "                if temp=='':\n",
    "                    label=0\n",
    "                else:\n",
    "                    label=int(temp)\n",
    "            except:\n",
    "                label=3\n",
    "        while label==2:\n",
    "            playsound.playsound(df_labeled['path'][j])\n",
    "            try:\n",
    "                temp=input('0 or enter : not cat, 1 : cat, 2 : relisten to it, 3 : quit and save, 4: skip file')\n",
    "                if temp=='':\n",
    "                    label=0\n",
    "                else:\n",
    "                    label=int(temp)\n",
    "            except:\n",
    "                label=3\n",
    "        if label==3:\n",
    "            done=True\n",
    "            end=True\n",
    "        if label==0 or label==1:\n",
    "            done=True\n",
    "        if label==4:\n",
    "            done=True\n",
    "            skip=True\n",
    "            skipindex=j\n",
    "\n",
    "    if end or skip:\n",
    "        break\n",
    "    df_labeled.loc[j,'label'] = label\n",
    "\n",
    "if skip:\n",
    "    print(\":\".join(map(str,list(df_labeled.index[df_labeled['path'].str.split('\\\\',expand=True).iloc[:,-1].str.split('.',expand=True).iloc[:,0].str.split('_',expand=True).iloc[:,0]==df_labeled.iloc[skipindex,0].split('\\\\')[-1].split('.')[0].split('_')[0]][[0,-1]]))))\n",
    "    df_labeled.iloc[list(df_labeled.index[df_labeled['path'].str.split('\\\\',expand=True).iloc[:,-1].str.split('.',expand=True).iloc[:,0].str.split('_',expand=True).iloc[:,0]==df_labeled.iloc[skipindex,0].split('\\\\')[-1].split('.')[0].split('_')[0]]),1]=0\n",
    "    print(\"done skipping, please rerun the code\")\n",
    "#print(df_labeled[df_labeled['path'].split('\\\\')[-1].split('.')[0].split('_')[0]==df_labeled.iloc[skipindex,0].split('\\\\')[-1].split('.')[0].split('_')[0]])\n",
    "\n",
    "df_labeled.to_csv(typ+\"_labeled_path_\"+str(i)+\".csv\", index=False)\n",
    "#count how many cats\n",
    "print(\"you have found \"+str(len(df_labeled[df_labeled['label']==1]))+\" cats\")\n",
    "\n",
    "\n"
   ]
  },
  {
   "cell_type": "code",
   "execution_count": 3,
   "metadata": {},
   "outputs": [
    {
     "ename": "KeyboardInterrupt",
     "evalue": "Interrupted by user",
     "output_type": "error",
     "traceback": [
      "\u001b[1;31m---------------------------------------------------------------------------\u001b[0m",
      "\u001b[1;31mKeyboardInterrupt\u001b[0m                         Traceback (most recent call last)",
      "\u001b[1;32mc:\\Users\\lukek\\Desktop\\설곽\\Python\\catclass\\eda2.ipynb Cell 5\u001b[0m line \u001b[0;36m1\n\u001b[0;32m     <a href='vscode-notebook-cell:/c%3A/Users/lukek/Desktop/%EC%84%A4%EA%B3%BD/Python/catclass/eda2.ipynb#W4sZmlsZQ%3D%3D?line=15'>16</a>\u001b[0m \u001b[39mif\u001b[39;00m df_labeled[\u001b[39m'\u001b[39m\u001b[39mlabel\u001b[39m\u001b[39m'\u001b[39m][j]\u001b[39m==\u001b[39m\u001b[39m1\u001b[39m:\n\u001b[0;32m     <a href='vscode-notebook-cell:/c%3A/Users/lukek/Desktop/%EC%84%A4%EA%B3%BD/Python/catclass/eda2.ipynb#W4sZmlsZQ%3D%3D?line=16'>17</a>\u001b[0m     playsound\u001b[39m.\u001b[39mplaysound(df_labeled[\u001b[39m'\u001b[39m\u001b[39mpath\u001b[39m\u001b[39m'\u001b[39m][j])\n\u001b[1;32m---> <a href='vscode-notebook-cell:/c%3A/Users/lukek/Desktop/%EC%84%A4%EA%B3%BD/Python/catclass/eda2.ipynb#W4sZmlsZQ%3D%3D?line=17'>18</a>\u001b[0m     \u001b[39minput\u001b[39;49m()\n",
      "File \u001b[1;32m~\\AppData\\Roaming\\Python\\Python310\\site-packages\\ipykernel\\kernelbase.py:1191\u001b[0m, in \u001b[0;36mKernel.raw_input\u001b[1;34m(self, prompt)\u001b[0m\n\u001b[0;32m   1189\u001b[0m     msg \u001b[39m=\u001b[39m \u001b[39m\"\u001b[39m\u001b[39mraw_input was called, but this frontend does not support input requests.\u001b[39m\u001b[39m\"\u001b[39m\n\u001b[0;32m   1190\u001b[0m     \u001b[39mraise\u001b[39;00m StdinNotImplementedError(msg)\n\u001b[1;32m-> 1191\u001b[0m \u001b[39mreturn\u001b[39;00m \u001b[39mself\u001b[39;49m\u001b[39m.\u001b[39;49m_input_request(\n\u001b[0;32m   1192\u001b[0m     \u001b[39mstr\u001b[39;49m(prompt),\n\u001b[0;32m   1193\u001b[0m     \u001b[39mself\u001b[39;49m\u001b[39m.\u001b[39;49m_parent_ident[\u001b[39m\"\u001b[39;49m\u001b[39mshell\u001b[39;49m\u001b[39m\"\u001b[39;49m],\n\u001b[0;32m   1194\u001b[0m     \u001b[39mself\u001b[39;49m\u001b[39m.\u001b[39;49mget_parent(\u001b[39m\"\u001b[39;49m\u001b[39mshell\u001b[39;49m\u001b[39m\"\u001b[39;49m),\n\u001b[0;32m   1195\u001b[0m     password\u001b[39m=\u001b[39;49m\u001b[39mFalse\u001b[39;49;00m,\n\u001b[0;32m   1196\u001b[0m )\n",
      "File \u001b[1;32m~\\AppData\\Roaming\\Python\\Python310\\site-packages\\ipykernel\\kernelbase.py:1234\u001b[0m, in \u001b[0;36mKernel._input_request\u001b[1;34m(self, prompt, ident, parent, password)\u001b[0m\n\u001b[0;32m   1231\u001b[0m \u001b[39mexcept\u001b[39;00m \u001b[39mKeyboardInterrupt\u001b[39;00m:\n\u001b[0;32m   1232\u001b[0m     \u001b[39m# re-raise KeyboardInterrupt, to truncate traceback\u001b[39;00m\n\u001b[0;32m   1233\u001b[0m     msg \u001b[39m=\u001b[39m \u001b[39m\"\u001b[39m\u001b[39mInterrupted by user\u001b[39m\u001b[39m\"\u001b[39m\n\u001b[1;32m-> 1234\u001b[0m     \u001b[39mraise\u001b[39;00m \u001b[39mKeyboardInterrupt\u001b[39;00m(msg) \u001b[39mfrom\u001b[39;00m \u001b[39mNone\u001b[39m\n\u001b[0;32m   1235\u001b[0m \u001b[39mexcept\u001b[39;00m \u001b[39mException\u001b[39;00m:\n\u001b[0;32m   1236\u001b[0m     \u001b[39mself\u001b[39m\u001b[39m.\u001b[39mlog\u001b[39m.\u001b[39mwarning(\u001b[39m\"\u001b[39m\u001b[39mInvalid Message:\u001b[39m\u001b[39m\"\u001b[39m, exc_info\u001b[39m=\u001b[39m\u001b[39mTrue\u001b[39;00m)\n",
      "\u001b[1;31mKeyboardInterrupt\u001b[0m: Interrupted by user"
     ]
    }
   ],
   "source": [
    "import pandas as pd\n",
    "import numpy as np\n",
    "import playsound\n",
    "\n",
    "typ = int(input('meow : 1, caterwaul : 2'))\n",
    "if typ==1:\n",
    "    typ='meow'\n",
    "if typ==2:\n",
    "    typ='caterwaul'\n",
    "df_labeled = pd.read_csv(typ+'_labeled_path_final.csv')\n",
    "# if i=1 then slice 0-1/3, 2 then 1/3-2/3, 3 then 2/3-3/3\n",
    "df_labeled.columns = ['path','label']\n",
    "\n",
    "for j in range(0,len(df_labeled)):\n",
    "    if df_labeled['label'][j]==1:\n",
    "        playsound.playsound(df_labeled['path'][j])\n",
    "        input()\n"
   ]
  },
  {
   "cell_type": "code",
   "execution_count": null,
   "metadata": {},
   "outputs": [],
   "source": []
  }
 ],
 "metadata": {
  "kernelspec": {
   "display_name": "Python 3",
   "language": "python",
   "name": "python3"
  },
  "language_info": {
   "codemirror_mode": {
    "name": "ipython",
    "version": 3
   },
   "file_extension": ".py",
   "mimetype": "text/x-python",
   "name": "python",
   "nbconvert_exporter": "python",
   "pygments_lexer": "ipython3",
   "version": "0.0.0"
  }
 },
 "nbformat": 4,
 "nbformat_minor": 2
}
